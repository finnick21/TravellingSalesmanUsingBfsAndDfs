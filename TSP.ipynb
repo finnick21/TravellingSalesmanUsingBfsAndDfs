{
 "cells": [
  {
   "cell_type": "code",
   "execution_count": 152,
   "metadata": {},
   "outputs": [
    {
     "name": "stdout",
     "output_type": "stream",
     "text": [
      "Enter the distance from the office\n",
      "10\n",
      "15\n",
      "20\n",
      "Enter the distances from city B\n",
      "23\n",
      "12\n",
      "43\n",
      "Enter the distance from city C\n",
      "23\n",
      "15\n",
      "32\n",
      "Enter the distance from city D\n",
      "23\n",
      "12\n",
      "54\n"
     ]
    }
   ],
   "source": [
    "edges = []\n",
    "print(\"Enter the distance from the office\")\n",
    "edges_office = []\n",
    "edges_cityB = []\n",
    "edges_cityC = []\n",
    "edges_cityD = []\n",
    "cost = int(input())\n",
    "edges_office.append(0)\n",
    "edges_office.append(cost)\n",
    "cost = int(input())\n",
    "edges_office.append(cost)\n",
    "cost = int(input())\n",
    "edges_office.append(cost)\n",
    "print(\"Enter the distances from city B\")\n",
    "cost = int(input())\n",
    "edges_cityB.append(cost)\n",
    "edges_cityB.append(0)\n",
    "cost = int(input())\n",
    "edges_cityB.append(cost)\n",
    "cost = int(input())\n",
    "edges_cityB.append(cost)\n",
    "print(\"Enter the distance from city C\")\n",
    "cost = int(input())\n",
    "edges_cityC.append(cost)\n",
    "cost = int(input())\n",
    "edges_cityC.append(cost)\n",
    "edges_cityC.append(0)\n",
    "cost = int(input())\n",
    "edges_cityC.append(cost)\n",
    "print(\"Enter the distance from city D\")\n",
    "cost = int(input())\n",
    "edges_cityD.append(cost)\n",
    "cost = int(input())\n",
    "edges_cityD.append(cost)\n",
    "cost = int(input())\n",
    "edges_cityD.append(cost)\n",
    "edges_cityD.append(0)\n",
    "edges.append(edges_office)\n",
    "edges.append(edges_cityB)\n",
    "edges.append(edges_cityC)\n",
    "edges.append(edges_cityD)"
   ]
  },
  {
   "cell_type": "code",
   "execution_count": 153,
   "metadata": {},
   "outputs": [],
   "source": [
    "def TSP_dfs(node, edges, visited, cost, path):\n",
    "    cnt = 0\n",
    "    path.append(node)\n",
    "    visited[node] = True\n",
    "    for i in range(4):\n",
    "        if visited[i] == False:\n",
    "            cnt += 1\n",
    "    if cnt == 0:\n",
    "        path.append(0)\n",
    "        return (cost + edges[node][0]), path\n",
    "    mini = 10000\n",
    "    A = []\n",
    "    for i in range(4):\n",
    "        if visited[i] == False:\n",
    "            tmp = [False]*5\n",
    "            for j in range(4):\n",
    "                tmp[j] = visited[j]\n",
    "            P = []\n",
    "            for j in range(len(path)):\n",
    "                P.append(path[j])\n",
    "            t, l = TSP_dfs(i, edges, tmp, cost + edges[node][i], P)\n",
    "            if mini > t:\n",
    "                mini = t\n",
    "                A = l\n",
    "    return mini, A"
   ]
  },
  {
   "cell_type": "code",
   "execution_count": 154,
   "metadata": {},
   "outputs": [
    {
     "name": "stdout",
     "output_type": "stream",
     "text": [
      "(67, [0, 3, 1, 2, 0])\n"
     ]
    }
   ],
   "source": [
    "visited = [False]*5\n",
    "path = []\n",
    "print(TSP_dfs(0, edges, visited, 0, path))"
   ]
  },
  {
   "cell_type": "code",
   "execution_count": 155,
   "metadata": {},
   "outputs": [],
   "source": [
    "def TSP_bfs(edges):\n",
    "    q = []\n",
    "    path = []\n",
    "    visited = [False]*5\n",
    "    p = [0]\n",
    "    q.append((0, 0, visited, p))\n",
    "    while len(q) != 0:\n",
    "        cnt = 0\n",
    "        curr = q.pop(0)\n",
    "        curr[2][curr[0]] = True\n",
    "        for i in range(4):\n",
    "            if curr[2][i] == False:\n",
    "                cnt += 1\n",
    "        if cnt == 0:\n",
    "            P = curr[3]\n",
    "            P.append(0)\n",
    "            path.append((curr[1] + edges[curr[0]][0], P))\n",
    "        for i in range(4):\n",
    "            if curr[2][i] == False:\n",
    "                tmp = [False]*5\n",
    "                for j in range(4):\n",
    "                    tmp[j] = curr[2][j]\n",
    "                P = []\n",
    "                for j in range(len(curr[3])):\n",
    "                    P.append(curr[3][j])\n",
    "                P.append(i)\n",
    "                q.append((i, curr[1] + edges[curr[0]][i], tmp, P))\n",
    "                    \n",
    "    mini = 1000\n",
    "    P = []\n",
    "    for i in range(len(path)):\n",
    "        if mini > path[i][0]:\n",
    "            mini = path[i][0]\n",
    "            P = path[i][1]\n",
    "    return mini, P"
   ]
  },
  {
   "cell_type": "code",
   "execution_count": 156,
   "metadata": {},
   "outputs": [
    {
     "name": "stdout",
     "output_type": "stream",
     "text": [
      "(67, [0, 3, 1, 2, 0])\n"
     ]
    }
   ],
   "source": [
    "print(TSP_bfs(edges))"
   ]
  },
  {
   "cell_type": "code",
   "execution_count": null,
   "metadata": {},
   "outputs": [],
   "source": []
  }
 ],
 "metadata": {
  "kernelspec": {
   "display_name": "Python 3",
   "language": "python",
   "name": "python3"
  },
  "language_info": {
   "codemirror_mode": {
    "name": "ipython",
    "version": 3
   },
   "file_extension": ".py",
   "mimetype": "text/x-python",
   "name": "python",
   "nbconvert_exporter": "python",
   "pygments_lexer": "ipython3",
   "version": "3.7.1"
  }
 },
 "nbformat": 4,
 "nbformat_minor": 2
}
